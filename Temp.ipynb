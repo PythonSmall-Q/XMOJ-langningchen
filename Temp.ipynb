{
 "cells": [
  {
   "cell_type": "code",
   "execution_count": 28,
   "metadata": {
    "vscode": {
     "languageId": "cpp"
    }
   },
   "outputs": [],
   "source": [
    "#include <bits/stdc++.h>\n",
    "using namespace std;\n",
    "typedef long long ll;\n",
    "const ll N = 1005;\n",
    "ll DFN[N], Low[N], Counter, Parent[N], AP[N], a[N], Stack[N], StackTop, SCCCount, Size[N], SCC[N];\n",
    "bool InStack[N];\n",
    "vector<ll> To[N];"
   ]
  },
  {
   "cell_type": "code",
   "execution_count": 59,
   "metadata": {
    "vscode": {
     "languageId": "cpp"
    }
   },
   "outputs": [],
   "source": [
    "void Tarjan(ll u)\n",
    "{\n",
    "    ll Children = 0;\n",
    "    Low[u] = DFN[u] = ++Counter;\n",
    "    Stack[++StackTop] = u;\n",
    "    InStack[u] = true;\n",
    "    for (size_t i = 0; i < To[u].size(); i++)\n",
    "    {\n",
    "        ll v = To[u][i];\n",
    "        if (!DFN[v])\n",
    "        {\n",
    "            Children++;\n",
    "            Parent[v] = u;\n",
    "            Tarjan(v);\n",
    "            Low[u] = min(Low[u], Low[v]);\n",
    "            if (!Parent[u] && Children > 1)\n",
    "                AP[u] = true;\n",
    "            else if (Parent[u] && Low[v] >= DFN[u])\n",
    "                AP[u] = true;\n",
    "            if (Low[v] >= DFN[u])\n",
    "                a[u]++;\n",
    "        }\n",
    "        else if (InStack[v])\n",
    "            Low[u] = min(Low[u], DFN[v]);\n",
    "    }\n",
    "    if (DFN[u] == Low[u])\n",
    "    {\n",
    "        SCCCount++;\n",
    "        while (Stack[StackTop] != u)\n",
    "        {\n",
    "            SCC[Stack[StackTop]] = SCCCount;\n",
    "            Size[SCCCount]++;\n",
    "            InStack[Stack[StackTop]] = false;\n",
    "            StackTop--;\n",
    "        }\n",
    "        SCC[Stack[StackTop]] = SCCCount;\n",
    "        Size[SCCCount]++;\n",
    "        InStack[Stack[StackTop]] = false;\n",
    "        StackTop--;\n",
    "    }\n",
    "    if (Parent[u] && a[u] >= 1)\n",
    "        a[u]++;\n",
    "}"
   ]
  },
  {
   "cell_type": "code",
   "execution_count": 67,
   "metadata": {
    "vscode": {
     "languageId": "cpp"
    }
   },
   "outputs": [],
   "source": [
    "void AddEdge(ll u, ll v)\n",
    "{\n",
    "    To[u].push_back(v);\n",
    "    To[v].push_back(u);\n",
    "}"
   ]
  },
  {
   "cell_type": "code",
   "execution_count": 68,
   "metadata": {
    "vscode": {
     "languageId": "cpp"
    }
   },
   "outputs": [],
   "source": [
    "for (ll i = 0; i < N; i++)\n",
    "    To[i].clear();\n",
    "memset(DFN, 0, sizeof(DFN));\n",
    "memset(Low, 0, sizeof(Low));\n",
    "memset(Parent, 0, sizeof(Parent));\n",
    "memset(AP, 0, sizeof(AP));\n",
    "memset(a, 0, sizeof(a));\n",
    "memset(Stack, 0, sizeof(Stack));\n",
    "memset(Size, 0, sizeof(Size));\n",
    "memset(SCC, 0, sizeof(SCC));\n",
    "memset(InStack, 0, sizeof(InStack));\n",
    "Counter = StackTop = SCCCount = 0;"
   ]
  },
  {
   "cell_type": "code",
   "execution_count": 69,
   "metadata": {
    "vscode": {
     "languageId": "cpp"
    }
   },
   "outputs": [],
   "source": [
    "AddEdge(1, 2);\n",
    "AddEdge(2, 3);\n",
    "AddEdge(3, 4);\n",
    "AddEdge(4, 6);\n",
    "AddEdge(6, 3);\n",
    "AddEdge(2, 5);\n",
    "AddEdge(5, 1);\n",
    "ll n = 6;"
   ]
  },
  {
   "cell_type": "code",
   "execution_count": 70,
   "metadata": {
    "vscode": {
     "languageId": "cpp"
    }
   },
   "outputs": [],
   "source": [
    "for (ll i = 1; i <= n; i++)\n",
    "    if (!DFN[i])\n",
    "        Tarjan(i);"
   ]
  },
  {
   "cell_type": "code",
   "execution_count": 71,
   "metadata": {
    "vscode": {
     "languageId": "cpp"
    }
   },
   "outputs": [
    {
     "data": {
      "text/plain": [
       "1"
      ]
     },
     "execution_count": 71,
     "metadata": {},
     "output_type": "execute_result"
    }
   ],
   "source": [
    "SCCCount"
   ]
  }
 ],
 "metadata": {
  "kernelspec": {
   "display_name": "C++17",
   "language": "C++17",
   "name": "xcpp17"
  },
  "language_info": {
   "codemirror_mode": "text/x-c++src",
   "file_extension": ".cpp",
   "mimetype": "text/x-c++src",
   "name": "c++",
   "version": "17"
  },
  "orig_nbformat": 4
 },
 "nbformat": 4,
 "nbformat_minor": 2
}
