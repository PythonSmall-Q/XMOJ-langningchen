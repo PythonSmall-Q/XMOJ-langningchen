{
 "cells": [
  {
   "cell_type": "code",
   "execution_count": 1,
   "metadata": {
    "vscode": {
     "languageId": "cpp"
    }
   },
   "outputs": [],
   "source": [
    "#include <bits/stdc++.h>\n",
    "using namespace std;\n",
    "typedef long long ll;"
   ]
  },
  {
   "cell_type": "code",
   "execution_count": 3,
   "metadata": {
    "vscode": {
     "languageId": "cpp"
    }
   },
   "outputs": [],
   "source": [
    "void SpiltString(string Input, string Separator, vector<string>& Output)\n",
    "{\n",
    "    Input += Separator;\n",
    "    Output.clear();\n",
    "    size_t Last = 0;\n",
    "    for (size_t i = 0; i < Input.size() - Separator.size() + 1; i++)\n",
    "        if (Input.substr(i, Separator.size()) == Separator)\n",
    "        {\n",
    "            Output.push_back(Input.substr(Last, i - Last));\n",
    "            i += Separator.size();\n",
    "            Last = i;\n",
    "            i--;\n",
    "        }\n",
    "}"
   ]
  },
  {
   "cell_type": "code",
   "execution_count": 6,
   "metadata": {
    "vscode": {
     "languageId": "cpp"
    }
   },
   "outputs": [
    {
     "name": "stderr",
     "output_type": "stream",
     "text": [
      "input_line_13:8:41: error: type 'vector<std::string>' (aka 'vector<basic_string<char> >') does not provide a subscript operator\n",
      "        for (size_t j = 0; j < SplitName[i].length(); j++)\n",
      "                               ~~~~~~~~~^~\n",
      "input_line_13:9:35: error: type 'vector<std::string>' (aka 'vector<basic_string<char> >') does not provide a subscript operator\n",
      "            if (!isdigit(SplitName[i][j]))\n",
      "                         ~~~~~~~~~^~\n",
      "input_line_13:11:34: error: type 'vector<std::string>' (aka 'vector<basic_string<char> >') does not provide a subscript operator\n",
      "        if (IsNumber && SplitName[i].length() > 3)\n",
      "                        ~~~~~~~~~^~\n",
      "input_line_13:14:45: error: type 'vector<std::string>' (aka 'vector<basic_string<char> >') does not provide a subscript operator\n",
      "            for (size_t j = 0; j < SplitName[i].length(); j++)\n",
      "                                   ~~~~~~~~~^~\n",
      "input_line_13:15:34: error: type 'vector<std::string>' (aka 'vector<basic_string<char> >') does not provide a subscript operator\n",
      "                Temp += SplitName[i][j] + string(\" \");\n",
      "                        ~~~~~~~~~^~\n",
      "input_line_13:16:22: error: type 'vector<std::string>' (aka 'vector<basic_string<char> >') does not provide a subscript operator\n",
      "            SplitName[i] = Temp;\n",
      "            ~~~~~~~~~^~\n",
      "input_line_13:21:26: error: type 'vector<std::string>' (aka 'vector<basic_string<char> >') does not provide a subscript operator\n",
      "        Name += SplitName[i] + \" \";\n",
      "                ~~~~~~~~~^~\n"
     ]
    },
    {
     "ename": "Interpreter Error",
     "evalue": "",
     "output_type": "error",
     "traceback": [
      "Interpreter Error: "
     ]
    }
   ],
   "source": [
    "string Process(string Name)\n",
    "{\n",
    "    vector<string> SplitName;\n",
    "    SpiltString(Name, \" \", SplitName);\n",
    "    for (size_t i = 0; i < SplitName.size(); i++)\n",
    "    {\n",
    "        bool IsNumber = true;\n",
    "        for (size_t j = 0; j < SplitName[i].length(); j++)\n",
    "            if (!isdigit(SplitName[i][j]))\n",
    "                IsNumber = false;\n",
    "        if (IsNumber && SplitName[i].length() > 3)\n",
    "        {\n",
    "            string Temp = \"\";\n",
    "            for (size_t j = 0; j < SplitName[i].length(); j++)\n",
    "                Temp += SplitName[i][j] + string(\" \");\n",
    "            SplitName[i] = Temp;\n",
    "        }\n",
    "    }\n",
    "    Name = \"\";\n",
    "    for (size_t i = 0; i < SplitName.size(); i++)\n",
    "        Name += SplitName[i] + \" \";\n",
    "    return Name;\n",
    "}"
   ]
  }
 ],
 "metadata": {
  "kernelspec": {
   "display_name": "C++17",
   "language": "C++17",
   "name": "xcpp17"
  },
  "language_info": {
   "codemirror_mode": "text/x-c++src",
   "file_extension": ".cpp",
   "mimetype": "text/x-c++src",
   "name": "c++",
   "version": "17"
  },
  "orig_nbformat": 4
 },
 "nbformat": 4,
 "nbformat_minor": 2
}
